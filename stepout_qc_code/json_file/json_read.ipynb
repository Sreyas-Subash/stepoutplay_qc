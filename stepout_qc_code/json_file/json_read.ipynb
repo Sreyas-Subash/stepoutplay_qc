{
 "cells": [
  {
   "cell_type": "code",
   "execution_count": 7,
   "id": "fb1c41db-36c6-48c3-a6b1-fb2aea30bd94",
   "metadata": {},
   "outputs": [],
   "source": [
    "import sys\n",
    "import json\n",
    "import pandas as pd"
   ]
  },
  {
   "cell_type": "code",
   "execution_count": 25,
   "id": "08aeb451-c5ee-4bcd-a379-4863ee728949",
   "metadata": {},
   "outputs": [
    {
     "name": "stdout",
     "output_type": "stream",
     "text": [
      "206\n",
      "207\n"
     ]
    }
   ],
   "source": [
    "# Step 1: Open the JSON file\n",
    "with open('match_dict_mini.json', 'r') as file:\n",
    "    # Step 2: Load the JSON data\n",
    "    data = json.load(file)\n",
    "\n",
    "    for match_id in data:\n",
    "      coded_string = data[match_id][\"match_string\"]\n",
    "\n",
    "      coded_string_list = coded_string.split(',')\n",
    "      df = pd.DataFrame(coded_string_list, columns=['strings'])\n",
    "      new_df = df['strings'].str.split('-', expand=True)\n",
    "\n",
    "      # checks if 2 rows stuck together without comma\n",
    "      if new_df.columns.stop > 9:\n",
    "          print('Seems like a comma is missing!')\n",
    "          print(f'match id = {match_id}')\n",
    "          print(new_df[new_df[10].notna()].to_string())\n",
    "          continue\n",
    "          \n",
    "      df[['team', 'jersey_number', 'action', 'notation', 'start_grid', 'end_grid', 'timestamp', 'foot',\n",
    "          'special_attribute']] = new_df\n",
    "      df = df.drop(columns=['strings'])\n",
    "      df['special_attribute'] = df['special_attribute'].str.strip()\n",
    "\n",
    "      print(match_id)\n",
    "      # print(df.to_string())"
   ]
  },
  {
   "cell_type": "code",
   "execution_count": null,
   "id": "ad9f4bd9-9474-41ae-8ba2-18ebcffcdfb2",
   "metadata": {},
   "outputs": [],
   "source": []
  },
  {
   "cell_type": "code",
   "execution_count": null,
   "id": "385b79a5-c93c-4dee-926c-08ae6394ec71",
   "metadata": {},
   "outputs": [],
   "source": []
  }
 ],
 "metadata": {
  "kernelspec": {
   "display_name": "Python 3 (ipykernel)",
   "language": "python",
   "name": "python3"
  },
  "language_info": {
   "codemirror_mode": {
    "name": "ipython",
    "version": 3
   },
   "file_extension": ".py",
   "mimetype": "text/x-python",
   "name": "python",
   "nbconvert_exporter": "python",
   "pygments_lexer": "ipython3",
   "version": "3.11.9"
  },
  "widgets": {
   "application/vnd.jupyter.widget-state+json": {
    "state": {},
    "version_major": 2,
    "version_minor": 0
   }
  }
 },
 "nbformat": 4,
 "nbformat_minor": 5
}
