{
 "cells": [
  {
   "cell_type": "code",
   "execution_count": 1,
   "id": "8cfb2968-faac-4e15-9482-352b2b14c3db",
   "metadata": {},
   "outputs": [],
   "source": [
    "# !pip install openpyxl\n",
    "# !pip install python-docx"
   ]
  },
  {
   "cell_type": "code",
   "execution_count": 2,
   "id": "d4c96c1f-786f-40cc-ab2d-401023880ed2",
   "metadata": {},
   "outputs": [],
   "source": [
    "import pandas as pd\n",
    "import numpy as np\n",
    "import os\n",
    "import docx\n",
    "import sys\n",
    "import traceback\n",
    "import datetime\n",
    "\n",
    "from openpyxl import load_workbook, Workbook\n",
    "from openpyxl.utils.dataframe import dataframe_to_rows\n",
    "from openpyxl.styles import Font, Alignment, PatternFill\n",
    "from openpyxl.utils.cell import coordinate_from_string\n",
    "\n",
    "import time\n",
    "import logging"
   ]
  },
  {
   "cell_type": "markdown",
   "id": "2919bde0-fcd7-4ea5-bb00-108c330386d3",
   "metadata": {},
   "source": [
    "## Coded string reader function"
   ]
  },
  {
   "cell_type": "code",
   "execution_count": 3,
   "id": "18139aef-92bc-48a6-9c24-36b476651fb7",
   "metadata": {},
   "outputs": [],
   "source": [
    "def read(doc_obj):\n",
    "    '''\n",
    "    This function reads the coded string in a docx file to a dataframe\n",
    "    '''\n",
    "    \n",
    "    try:\n",
    "        # with open(read_path, 'r') as file:\n",
    "        #     coded_string = file.read()\n",
    "        if len(doc_obj.paragraphs) > 1:\n",
    "            print(f\"At this action {doc_obj.paragraphs[1].text.split(',')[0]}, there is an issue. Please Check!\")\n",
    "            sys.exit(1)\n",
    "        else:                  \n",
    "            for paragraph in doc_obj.paragraphs:\n",
    "                coded_string = paragraph.text\n",
    "                coded_string_list = coded_string.split(',')\n",
    "                df = pd.DataFrame(coded_string_list, columns = ['strings'])\n",
    "                df[['team', 'jersey_number', 'action', 'notation', 'start_grid', 'end_grid', 'timestamp', 'foot', 'special_attribute', 'half']] = df['strings'].str.split('-', expand = True)\n",
    "                df = df.drop(columns = ['strings'])\n",
    "                return df\n",
    "                \n",
    "    except FileNotFoundError:\n",
    "        print(f\"File '{file_path}' not found.\")\n",
    "    except Exception as e:\n",
    "        print(f\"An error occurred: {str(e)}\")\n",
    "        traceback.print_exc()\n"
   ]
  },
  {
   "cell_type": "code",
   "execution_count": 4,
   "id": "5f4f6de5-2082-4d07-848e-372b948e1756",
   "metadata": {},
   "outputs": [],
   "source": [
    "# read_path = r'..\\read_string\\rstring.txt'\n",
    "doc_obj = docx.Document(r\"..\\read_string\\rstring.docx\")\n",
    "df = read(doc_obj)"
   ]
  },
  {
   "cell_type": "markdown",
   "id": "dba7b55a-a2e1-46fb-ad6e-706c9b7deaf3",
   "metadata": {},
   "source": [
    "## Renumeration log function"
   ]
  },
  {
   "cell_type": "code",
   "execution_count": 5,
   "id": "b4d68ca1-6864-405f-9036-4e4fbdceb13a",
   "metadata": {},
   "outputs": [
    {
     "name": "stdin",
     "output_type": "stream",
     "text": [
      "Match ID please... =  9874\n"
     ]
    }
   ],
   "source": [
    "match_idd = int(input('Match ID please... = '))\n",
    "\n",
    "def renumeration_func():\n",
    "    '''\n",
    "    This function creates a renumeration excel file as per the inputs given.\n",
    "    It checks the match id to make sure no matches are duplicated.\n",
    "    '''\n",
    "    try:\n",
    "\n",
    "        analyst_names = {\n",
    "            1 : 'Sreyas',\n",
    "            2 : 'Boni',\n",
    "            3 : 'Arpit',\n",
    "            4 : 'Sudhanva'\n",
    "        }\n",
    "        \n",
    "        write_path_xlsx = r'..\\write_string\\renumeration.xlsx'\n",
    "        initial_input = input('Do you wish to add match details? (y/n)')\n",
    "\n",
    "        # Taking the match details from the user\n",
    "        if initial_input.lower() == 'y':\n",
    "            global team_a_name\n",
    "            global team_b_name\n",
    "            analyst_id = int(input(f'Choose the Analyst ID\\n{analyst_names} = '))\n",
    "            analyst_name = analyst_names[analyst_id]\n",
    "            team_a_name = input('Team A name = ')\n",
    "            team_b_name = input('Team B name = ')\n",
    "            match_id = match_idd\n",
    "            game_time = int(input('Game time?\\nType 1 for 90 minutes\\nType 2 for 45 minutes\\nType 3 for less than 60 minutes\\n'))\n",
    "            current_date = datetime.date.today()\n",
    "            \n",
    "            #check to-do \n",
    "            if game_time == 1:\n",
    "                renumeration = 500\n",
    "                game_time = 90\n",
    "            elif game_time == 2:\n",
    "                renumeration = 250\n",
    "                game_time = 45\n",
    "            elif game_time == 3:\n",
    "                renumeration = 300\n",
    "                game_time = 'Less than 60'\n",
    "            else:\n",
    "                print('You have chosen an invalid option. Try again!')\n",
    "        \n",
    "            data = {\n",
    "                    'team_a_name' : team_a_name,\n",
    "                    'team_b_name' : team_b_name,\n",
    "                    'match_id' : match_id,\n",
    "                    'game_time' : game_time,\n",
    "                    'current_date' : current_date,\n",
    "                    'renumeration' : renumeration\n",
    "                }        \n",
    "            \n",
    "            # There are 4 possible scenarios here\n",
    "            # 1. The file exists\n",
    "            if os.path.exists(write_path_xlsx):\n",
    "                wb = load_workbook(write_path_xlsx)\n",
    "                sheet_name = analyst_name\n",
    "                sheet_exists = sheet_name in wb.sheetnames\n",
    "                \n",
    "                # 2. File exists but sheet doesn't  \n",
    "                if not sheet_exists:                \n",
    "                    ws = wb.create_sheet(sheet_name)                \n",
    "                    renumeration_df = pd.DataFrame(data, index = [0])\n",
    "                    for r in dataframe_to_rows(renumeration_df, index=False, header=True):\n",
    "                        ws.append(r)\n",
    "                    for cell in ws[1]:\n",
    "                        cell.style = 'Pandas'\n",
    "                    wb.save(write_path_xlsx)\n",
    "                    \n",
    "                # 3. File and sheet exists\n",
    "                else:                  \n",
    "                    renumeration_df = pd.read_excel(write_path_xlsx, sheet_name = analyst_name)\n",
    "                    renumeration_df.loc[len(renumeration_df)] = data\n",
    "                    if renumeration_df['match_id'].duplicated().sum() > 0:\n",
    "                        display(renumeration_df[renumeration_df['match_id'].duplicated()])\n",
    "                        print('This match id seems to be a duplicate. Please check!')\n",
    "                        # renumeration_df = renumeration_df.drop_duplicates(subset = ['match_id'])\n",
    "                    else:\n",
    "                        renumeration_df = pd.DataFrame(data, index = [0])\n",
    "                        for r in dataframe_to_rows(renumeration_df, index=False, header=False):\n",
    "                            ws = wb[sheet_name]\n",
    "                            ws.append(r)\n",
    "                        wb.save(write_path_xlsx)\n",
    "                        \n",
    "            # 4. File does not exists \n",
    "            else:\n",
    "                renumeration_df = pd.DataFrame(data, index = [0])\n",
    "                renumeration_df.to_excel(write_path_xlsx, sheet_name = analyst_name, index = False)     \n",
    "                \n",
    "           \n",
    "            \n",
    "                \n",
    "        else:\n",
    "            print('Proceeding without filling details')\n",
    "\n",
    "    except PermissionError as e:\n",
    "        print(f'{e}\\nThe renumeration xlsx file might be open. Please close it and try again')\n",
    "\n",
    "    except Exception as e:\n",
    "        print(f'An error occured : {e}')"
   ]
  },
  {
   "cell_type": "code",
   "execution_count": 6,
   "id": "3e672068-a65d-416e-9e13-998a64fe55c3",
   "metadata": {},
   "outputs": [
    {
     "name": "stdin",
     "output_type": "stream",
     "text": [
      "Do you wish to add match details? (y/n) y\n",
      "Choose the Analyst ID\n",
      "{1: 'Sreyas', 2: 'Boni', 3: 'Arpit', 4: 'Sudhanva'} =  1\n",
      "Team A name =  Ajax\n",
      "Team B name =  AZ\n",
      "Game time?\n",
      "Type 1 for 90 minutes\n",
      "Type 2 for 45 minutes\n",
      "Type 3 for less than 60 minutes\n",
      " 1\n"
     ]
    }
   ],
   "source": [
    "renumeration_func()"
   ]
  },
  {
   "cell_type": "markdown",
   "id": "27932680-166d-45be-8193-6f4af3b35283",
   "metadata": {},
   "source": [
    "## Openpyxl"
   ]
  },
  {
   "cell_type": "code",
   "execution_count": 7,
   "id": "fbd33715-cc1f-4f3f-964a-edf1905f534a",
   "metadata": {},
   "outputs": [],
   "source": [
    "\n",
    "path = r'..\\excel_logs'\n",
    "if not os.path.exists(path):\n",
    "    os.makedirs(path)\n",
    "    \n",
    "qc_path_xlsx = \"../excel_logs/Match_ID_\" + str(match_idd) + \"_Time_\" + time.strftime(\"%H-%M-%S\") + \".xlsx\"\n",
    "\n",
    "def qc_excel_log(df, message, size, sheet_name):\n",
    "    \n",
    "    if os.path.exists(qc_path_xlsx):\n",
    "        wb = load_workbook(qc_path_xlsx)\n",
    "        ws = wb.create_sheet(f'{sheet_name}')\n",
    "\n",
    "    else:\n",
    "        wb = Workbook()\n",
    "        ws = wb.active\n",
    "        ws.title = f'{sheet_name}'\n",
    "\n",
    "\n",
    "    a1 = ws['A1']\n",
    "    a1.value = f'{message}'\n",
    "    \n",
    "    a1.font = Font(size=12, underline='single')\n",
    "    a1.alignment = Alignment(horizontal='center', vertical='center', wrap_text=True)\n",
    "    \n",
    "    for row in dataframe_to_rows(df, index=False, header=True):\n",
    "        ws.append(row)\n",
    "    \n",
    "    for cell in ws[2]:\n",
    "        cell.style = 'Pandas'\n",
    "\n",
    "        \n",
    "    for row in ws.iter_rows():\n",
    "        for cell in row:\n",
    "            if cell.value:\n",
    "                max_cell = cell\n",
    "    \n",
    "    coordinate = coordinate_from_string(max_cell.coordinate)\n",
    "    max_col = coordinate[0]\n",
    "    max_row = coordinate[1]\n",
    "    \n",
    "    ws.move_range(f\"A2:{max_col}{max_row}\", rows=0, cols=1)\n",
    "    \n",
    "    ws.column_dimensions['A'].width = size\n",
    "\n",
    "    wb.save(qc_path_xlsx)"
   ]
  },
  {
   "cell_type": "markdown",
   "id": "6ea4de3c-ce34-408d-84f4-48ed34651acf",
   "metadata": {},
   "source": [
    "## Logger function"
   ]
  },
  {
   "cell_type": "code",
   "execution_count": 8,
   "id": "ab622083-9288-4b3d-923d-6b39e0e48ef5",
   "metadata": {},
   "outputs": [],
   "source": [
    "def logger_setup(filename):\n",
    "    logging.basicConfig(filename=filename, filemode=\"w\", level=logging.DEBUG)\n",
    "    log_obj = logging.getLogger()\n",
    "    return log_obj"
   ]
  },
  {
   "cell_type": "code",
   "execution_count": 9,
   "id": "b853964a-bf3a-4d24-8567-d9cc7959c99d",
   "metadata": {},
   "outputs": [],
   "source": [
    "logs_path = r'..\\logs'\n",
    "if not os.path.exists(logs_path):\n",
    "    os.makedirs(logs_path)\n",
    "\n",
    "logger_obj = logger_setup(\"../logs/QC_Match_ID_\" + str(match_idd) + \"_Time_\" + time.strftime(\"%H-%M-%S\") + \".log\")"
   ]
  },
  {
   "cell_type": "markdown",
   "id": "a0b0ed7e-c1d6-438f-98c4-643990119924",
   "metadata": {},
   "source": [
    "## Dataframe to coded string function"
   ]
  },
  {
   "cell_type": "code",
   "execution_count": 10,
   "id": "dadec38a-7e8d-459c-b41a-63e2559e2b15",
   "metadata": {},
   "outputs": [],
   "source": [
    "def write(write_path):\n",
    "    '''\n",
    "    This function creates a coded string from a dataframe\n",
    "    '''\n",
    "    \n",
    "    if not 'Combined' in df.columns:\n",
    "        df['Combined'] = df.apply(lambda row: '-'.join(row), axis=1)\n",
    "        cs_list = list()\n",
    "        df['Combined'].apply(lambda x : cs_list.append(x))\n",
    "        \n",
    "        if not os.path.exists(write_path):\n",
    "            with open(write_path, 'a') as file:\n",
    "                for item in cs_list:\n",
    "                    if item == cs_list[-1]:\n",
    "                        file.write(item)\n",
    "                    else:\n",
    "                        file.write(item + ',')\n",
    "\n",
    "            print(\"wstring file successfully created.\")\n",
    "    \n",
    "        else:\n",
    "            print(\"This file already exists\")\n",
    "\n",
    "    else:\n",
    "        print(\"Read the file again. Combined column already exists.\")"
   ]
  },
  {
   "cell_type": "code",
   "execution_count": 11,
   "id": "96237ee0-8663-4e9e-a314-0dab7e087c09",
   "metadata": {},
   "outputs": [],
   "source": [
    "write_path = '..\\write_string\\wstring.txt'\n",
    "# write(write_path)"
   ]
  },
  {
   "cell_type": "markdown",
   "id": "9a1d19e1-c42c-4558-bb4d-521e79c0c7b4",
   "metadata": {},
   "source": [
    "## Dataframe to coded string function mini"
   ]
  },
  {
   "cell_type": "code",
   "execution_count": 12,
   "id": "739ec02c-a3d6-4928-b23d-d983b647dd2a",
   "metadata": {},
   "outputs": [],
   "source": [
    "def write_log(log_df):\n",
    "    '''\n",
    "    This function creates a coded string from a dataframe for logger object\n",
    "    '''\n",
    "    log_df = log_df.copy()\n",
    "    if not 'Combined' in log_df.columns:\n",
    "        log_df['Combined'] = log_df.apply(lambda row: '-'.join(row), axis=1)\n",
    "        cs_list = list()\n",
    "        log_df['Combined'].apply(lambda x : cs_list.append(x))\n",
    "        return cs_list"
   ]
  },
  {
   "cell_type": "markdown",
   "id": "add67632-2036-49ec-982d-256192fa556d",
   "metadata": {},
   "source": [
    "## Appropriate fouls QC function"
   ]
  },
  {
   "cell_type": "code",
   "execution_count": 13,
   "id": "5c2e32d0-4ef9-46e6-89ce-82ce261ff4fa",
   "metadata": {},
   "outputs": [],
   "source": [
    "def appropriate_foul():\n",
    "    '''\n",
    "    This function checks if \n",
    "    1. A non-defensive action(other than ST, SL, AD, GD, HB) was given a foul\n",
    "    2. A successful defensive action was tagged as a foul(need to check for yc and rc)\n",
    "    '''\n",
    "    non_df_action = df[~(df['action'].isin(['ST', 'SL', 'AD', 'GD', 'HB'])) & (df['special_attribute'].isin(['F', 'YC', 'RC']))]\n",
    "    non_df_action_foul = non_df_action['action'].count()\n",
    "\n",
    "    successful_df_action = df[(df['action'].isin(['ST', 'SL', 'AD', 'GD']))  & (df['notation'] == '1') & (df['special_attribute'].isin(['F', 'YC', 'RC']))]\n",
    "    successful_df_action_foul = successful_df_action['action'].count()\n",
    "    \n",
    "    if (non_df_action_foul != 0) | (successful_df_action_foul != 0):\n",
    "        if (non_df_action_foul != 0):\n",
    "            print('A non defensive action was tagged as a foul. Please check!')\n",
    "            display(non_df_action)\n",
    "            # logger_obj.info(f\"\\n\\nA non defensive action was tagged as a foul. Please check! \\n{write_log(non_df_action)}\\n\\n\" + '*'*100)\n",
    "            message = 'A non defensive action was tagged as a foul. Please check!'\n",
    "            qc_excel_log(non_df_action, message, 30, 'non_df_action_foul')\n",
    "        \n",
    "        if (successful_df_action_foul != 0):\n",
    "            print('A successful defensive action was tagged as a foul. Please check!')\n",
    "            display(successful_df_action)\n",
    "            # logger_obj.info(f\"\\n\\nA successful defensive action was tagged as a foul. Please check! \\n{write_log(successful_df_action)}\\n\\n\" + '*'*100)\n",
    "            message = 'A successful defensive action was tagged as a foul. Please check!'\n",
    "            qc_excel_log(successful_df_action, message, 30, 'successful_df_action_foul')\n",
    "    \n",
    "    else:\n",
    "        print('Appropriate foul QC done.')\n"
   ]
  },
  {
   "cell_type": "code",
   "execution_count": 14,
   "id": "40d08c03-c7e4-4cef-8a3e-2ebffca4a6dc",
   "metadata": {},
   "outputs": [
    {
     "name": "stdout",
     "output_type": "stream",
     "text": [
      "Appropriate foul QC done.\n"
     ]
    }
   ],
   "source": [
    "appropriate_foul()"
   ]
  },
  {
   "cell_type": "markdown",
   "id": "9c2e2c5c-c535-4318-8443-024711f278f0",
   "metadata": {},
   "source": [
    "## Freekick-Penalty = Fouls QC function"
   ]
  },
  {
   "cell_type": "code",
   "execution_count": 15,
   "id": "9cb41d68-a902-453e-b0bd-6309d2bd62cd",
   "metadata": {},
   "outputs": [],
   "source": [
    "def fk_pk_foul_check():\n",
    "    '''\n",
    "    This function finds the misbehaviour foul counts, subtracts them from total fouls and checks if total fouls equal\n",
    "    total freekick-penalty\n",
    "    '''\n",
    "    # finding misbehaviour foul count\n",
    "    misbehaviour_foul_a = 0\n",
    "    misbehaviour_foul_b = 0\n",
    "    \n",
    "    st_0_list = df[(df['action'] == 'ST') & (df['notation'] == '0') & (df['special_attribute'].isin(['YC', 'RC']))].index\n",
    "    for index in st_0_list:\n",
    "        if ((index == df.index[-1]) or (df.loc[index + 1, 'action'] != 'XST')) & (df.loc[index, 'team'] == 'A'):\n",
    "            misbehaviour_foul_a += 1\n",
    "        elif ((index == df.index[-1]) or (df.loc[index + 1, 'action'] != 'XST')) & (df.loc[index, 'team'] == 'B'):\n",
    "            misbehaviour_foul_b += 1\n",
    "\n",
    "    # finding fk-pk and fouls count\n",
    "    teamb_foul = df[(df['team'] == 'B') & ((df['action'].isin(['HB', 'OFF'])) | (df['special_attribute'].isin(['F', 'YC', 'RC'])))]['action'].count()\n",
    "    teamb_foul = teamb_foul - misbehaviour_foul_b\n",
    "    teamb_fk_pk = df[(df['team'] == 'B') & (df['special_attribute'].isin(['FK', 'PK']))]['action'].count()\n",
    "    \n",
    "    teama_foul = df[(df['team'] == 'A') & ((df['action'].isin(['HB', 'OFF'])) | (df['special_attribute'].isin(['F', 'YC', 'RC'])))]['action'].count()\n",
    "    teama_foul = teama_foul - misbehaviour_foul_a\n",
    "    teama_fk_pk = df[(df['team'] == 'A') & (df['special_attribute'].isin(['FK', 'PK']))]['action'].count()\n",
    "\n",
    "    # verifying if the foul and fk-pk count match\n",
    "    if (teamb_foul == teama_fk_pk) & (teama_foul == teamb_fk_pk):\n",
    "        print(\"Foul to fk-pk QC done\")\n",
    "        logger_obj.info('\\n\\nFoul to fk-pk QC done\\n\\n' + '*'*100)\n",
    "    else:\n",
    "        print(\"Foul to fk-pk not equal\")\n",
    "        print(f\"Team A FK-PK = {teama_fk_pk}, Team B Fouls = {teamb_foul}\")\n",
    "        print(f\"Team B FK-PK = {teamb_fk_pk}, Team A Fouls = {teama_foul}\")\n",
    "        # logger_obj.info(f'''\\n\\n\n",
    "        # Foul to fk-pk not equal\n",
    "        # Team A FK-PK = {teama_fk_pk}, Team B Fouls = {teamb_foul}\n",
    "        # Team B FK-PK = {teamb_fk_pk}, Team A Fouls = {teama_foul}\\n\n",
    "        # ''')\n",
    "    \n",
    "        teamB = (teamb_foul == teama_fk_pk)\n",
    "        teamA = (teama_foul == teamb_fk_pk)\n",
    "        if not (teamB | teamA):\n",
    "# check to-do\n",
    "            print('Both inequal. Check TMS')\n",
    "        elif teamB:\n",
    "            foul_team = 'A'\n",
    "            fk_team = 'B'\n",
    "        else:\n",
    "            foul_team = 'B'\n",
    "            fk_team = 'A'\n",
    "# check to-do\n",
    "        try:\n",
    "            foul_mask = ( (df['team'] == foul_team) & ((df['action'].isin(['HB', 'OFF'])) | (df['special_attribute'].isin(['F', 'YC', 'RC']))) )\n",
    "            fk_mask = ( (df['team'] == fk_team) & (df['special_attribute'].isin(['FK', 'PK'])) )\n",
    "            display(df[foul_mask | fk_mask])\n",
    "            message = f'''\n",
    "            Foul to fk-pk not equal\n",
    "            Team A FK-PK = {teama_fk_pk}, Team B Fouls = {teamb_foul}\n",
    "            Team B FK-PK = {teamb_fk_pk}, Team A Fouls = {teama_foul}\n",
    "            '''\n",
    "            qc_excel_log(df[foul_mask | fk_mask], message, 45, 'fk_pk_foul_check')\n",
    "            \n",
    "            \n",
    "            # logger_string_list = write_log(df[foul_mask | fk_mask])\n",
    "            # logger_string = ''\n",
    "            # for string in logger_string_list:\n",
    "            #     logger_string = logger_string + string + '\\n'\n",
    "            # logger_obj.info(f'\\n\\n{logger_string}\\n\\n' + '*'*100)\n",
    "    \n",
    "        except:\n",
    "            pass"
   ]
  },
  {
   "cell_type": "code",
   "execution_count": 16,
   "id": "02f9e7b2-7e0b-46b0-9cdc-b1f8f6f6fb0c",
   "metadata": {},
   "outputs": [
    {
     "name": "stdout",
     "output_type": "stream",
     "text": [
      "Foul to fk-pk QC done\n"
     ]
    }
   ],
   "source": [
    "fk_pk_foul_check()"
   ]
  },
  {
   "cell_type": "markdown",
   "id": "14f1ede8-be66-4b70-8e31-0763913bdf5e",
   "metadata": {},
   "source": [
    "## Corner QC function"
   ]
  },
  {
   "cell_type": "code",
   "execution_count": 17,
   "id": "8d8cb163-4bec-4909-9917-12ce9bd1953b",
   "metadata": {},
   "outputs": [],
   "source": [
    "def corner_qc():\n",
    "    \"\"\"\n",
    "    The purpose of this function\n",
    "    1. If there are any corners which didn't start from the corner grids\n",
    "    2. If there are any unassigned corners within the crosses\n",
    "    \n",
    "    \"\"\"\n",
    "\n",
    "    # To check if there were any passes which didn't start from the correct corner start grid(01,71) designated as corners\n",
    "    false_cn = df[(df['special_attribute'] == 'CN') & ~(df['start_grid'].isin(['01', '1', '71']))]\n",
    "    false_cn_count = false_cn['action'].count()\n",
    "    if false_cn_count != 0:\n",
    "        print(\"This Corner started from a false start grid. Check!\")\n",
    "        display(false_cn)\n",
    "        message = 'This Corner started from a false start grid. Please check!'\n",
    "        qc_excel_log(false_cn, message, 30, 'corner_grid_check')\n",
    "\n",
    "        # logger_obj.info('\\n\\nThis Corner started from a false start grid. Check!\\n' + f'{write_log(false_cn)}\\n\\n' + '*'*100)\n",
    "    else:\n",
    "        print(\"No corner false start grid error\")\n",
    "        # logger_obj.info(\"\\n\\nNo corner false start grid error\\n\\n\" + '*'*100)\n",
    "\n",
    "    \n",
    "\n",
    "    print(f\"\\n{'*' * 90}\\n\")\n",
    "    \n",
    "    \n",
    "    # To check if any crosses starting from (01, 71) are corners\n",
    "    corner_in_cross = df[(df['special_attribute'] != 'CN') & (df['start_grid'].isin(['01', '1', '71'])) & (df['action'] == 'C')]\n",
    "    corner_in_cross_count = corner_in_cross['action'].count()\n",
    "    if corner_in_cross_count != 0:\n",
    "        print(f\"{corner_in_cross_count} cross found with corner grid. Check if they are corners\")\n",
    "        display(corner_in_cross)\n",
    "        message = f'{corner_in_cross_count} cross found with corner grid. Check if they are corners'\n",
    "        qc_excel_log(corner_in_cross, message, 30, 'cross_check')\n",
    "\n",
    "        # logger_obj.info(f'\\n\\n{corner_in_cross_count} cross found with corner grid. Check if they are crosses\\n'\\\n",
    "        #                 + f'{write_log(corner_in_cross)}\\n\\n' + '*'*100)\n",
    "    else:\n",
    "        print(\"No corners in crosses\")\n",
    "        # logger_obj.info(\"\\n\\nNo corners in crosses\\n\\n\" + '*'*100)"
   ]
  },
  {
   "cell_type": "code",
   "execution_count": 18,
   "id": "37da2e9c-b231-4544-88f4-ec45001c901f",
   "metadata": {},
   "outputs": [
    {
     "name": "stdout",
     "output_type": "stream",
     "text": [
      "This Corner started from a false start grid. Check!\n"
     ]
    },
    {
     "data": {
      "text/html": [
       "<div>\n",
       "<style scoped>\n",
       "    .dataframe tbody tr th:only-of-type {\n",
       "        vertical-align: middle;\n",
       "    }\n",
       "\n",
       "    .dataframe tbody tr th {\n",
       "        vertical-align: top;\n",
       "    }\n",
       "\n",
       "    .dataframe thead th {\n",
       "        text-align: right;\n",
       "    }\n",
       "</style>\n",
       "<table border=\"1\" class=\"dataframe\">\n",
       "  <thead>\n",
       "    <tr style=\"text-align: right;\">\n",
       "      <th></th>\n",
       "      <th>team</th>\n",
       "      <th>jersey_number</th>\n",
       "      <th>action</th>\n",
       "      <th>notation</th>\n",
       "      <th>start_grid</th>\n",
       "      <th>end_grid</th>\n",
       "      <th>timestamp</th>\n",
       "      <th>foot</th>\n",
       "      <th>special_attribute</th>\n",
       "      <th>half</th>\n",
       "    </tr>\n",
       "  </thead>\n",
       "  <tbody>\n",
       "    <tr>\n",
       "      <th>1565</th>\n",
       "      <td>A</td>\n",
       "      <td>8</td>\n",
       "      <td>SP</td>\n",
       "      <td>1</td>\n",
       "      <td>2</td>\n",
       "      <td>3</td>\n",
       "      <td>1:00:48</td>\n",
       "      <td>L</td>\n",
       "      <td>CN</td>\n",
       "      <td>SHN</td>\n",
       "    </tr>\n",
       "  </tbody>\n",
       "</table>\n",
       "</div>"
      ],
      "text/plain": [
       "     team jersey_number action notation start_grid end_grid timestamp foot  \\\n",
       "1565    A             8     SP        1          2        3   1:00:48    L   \n",
       "\n",
       "     special_attribute half  \n",
       "1565                CN  SHN  "
      ]
     },
     "metadata": {},
     "output_type": "display_data"
    },
    {
     "name": "stdout",
     "output_type": "stream",
     "text": [
      "\n",
      "******************************************************************************************\n",
      "\n",
      "No corners in crosses\n"
     ]
    }
   ],
   "source": [
    "corner_qc()"
   ]
  },
  {
   "cell_type": "markdown",
   "id": "a845f0ab-76af-4d4f-8988-39d3defa5dff",
   "metadata": {},
   "source": [
    "## Key passes and Assist QC"
   ]
  },
  {
   "cell_type": "code",
   "execution_count": 19,
   "id": "d4a16777-4dcb-4a45-a0df-0795bdb2f02b",
   "metadata": {},
   "outputs": [],
   "source": [
    "index_list = df[df['action'].isin(['CS', 'LS'])].index"
   ]
  },
  {
   "cell_type": "code",
   "execution_count": 20,
   "id": "7c8bbe51-93cc-4164-9ee3-0d83898bd604",
   "metadata": {},
   "outputs": [],
   "source": [
    "# for index in index_list:\n",
    "#     display(df.loc[index-5:index])"
   ]
  },
  {
   "cell_type": "markdown",
   "id": "6af031d3-fd39-4751-9a70-7369ffa2e8a4",
   "metadata": {},
   "source": [
    "## Goal Kick QC"
   ]
  },
  {
   "cell_type": "code",
   "execution_count": 21,
   "id": "f1f38993-c0e6-4da9-bdb8-6500cdfaf024",
   "metadata": {},
   "outputs": [],
   "source": [
    "def gk_qc():\n",
    "    '''\n",
    "    This function checks if the GK, GH and GT were taken from inside their respective grids or not\n",
    "    '''\n",
    "\n",
    "    # Checking if GK is taken from outside goal area\n",
    "    wrong_goalkick = df[(df['special_attribute'] == 'GK') & ~(df['start_grid'].isin(['40', '50']))]\n",
    "    wrong_goalkick_count = wrong_goalkick['action'].count()\n",
    "    if wrong_goalkick_count > 0:\n",
    "        print('GK QC-1\\nThis goal kick is taken outside the goal area. Please check!')\n",
    "        display(wrong_goalkick)   \n",
    "        message = 'GK QC-1\\nThis goal kick is taken outside the goal area. Please check!'\n",
    "        qc_excel_log(wrong_goalkick, message, 30, 'GK QC-1')\n",
    "\n",
    "\n",
    "        # logger_obj.info('\\n\\nGK QC-1\\nThis goal kick is taken outside the goal area. Please check!\\n'\\\n",
    "        #                + f'{write_log(wrong_goalkick)}\\n' + '*'*100)\n",
    "    else:\n",
    "        print('GK QC-1 done.')\n",
    "        # logger_obj.info('\\n\\nGK QC-1 done.\\n\\n' + '*'*100)\n",
    "\n",
    "    # Chceking GH or GT is taken from outside penalty area\n",
    "    gk_d_grids = ['29','30','39','40','49','50','59','60']\n",
    "    wrong_goalkeeper = df[(df['action'].isin(['GH', 'GT'])) & ~(df['start_grid'].isin(gk_d_grids))]\n",
    "    wrong_goalkeeper_count = wrong_goalkeeper['action'].count()\n",
    "    if wrong_goalkeeper_count > 0:\n",
    "        print('GK QC-2\\nThis GH or GT taken outside penalty area. Please check!')\n",
    "        display(wrong_goalkeeper)\n",
    "        message = 'GK QC-2\\nThis GH or GT taken outside penalty area. Please check!'\n",
    "        qc_excel_log(wrong_goalkeeper, message, 30, 'GK QC-2')\n",
    "\n",
    "        # logger_obj.info('\\n\\nGK QC-2\\nThis GH or GT taken outside penalty area. Please check!\\n'\\\n",
    "        #                + f'{write_log(wrong_goalkeeper)}\\n' + '*'*100)\n",
    "        \n",
    "    else:\n",
    "        print('GK QC-2 done.')\n",
    "        # logger_obj.info('\\n\\nGK QC-2 done.\\n\\n' + '*'*100)"
   ]
  },
  {
   "cell_type": "code",
   "execution_count": 22,
   "id": "d2e5b496-570c-4075-a5c9-9bc5823df7ae",
   "metadata": {},
   "outputs": [
    {
     "name": "stdout",
     "output_type": "stream",
     "text": [
      "GK QC-1\n",
      "This goal kick is taken outside the goal area. Please check!\n"
     ]
    },
    {
     "data": {
      "text/html": [
       "<div>\n",
       "<style scoped>\n",
       "    .dataframe tbody tr th:only-of-type {\n",
       "        vertical-align: middle;\n",
       "    }\n",
       "\n",
       "    .dataframe tbody tr th {\n",
       "        vertical-align: top;\n",
       "    }\n",
       "\n",
       "    .dataframe thead th {\n",
       "        text-align: right;\n",
       "    }\n",
       "</style>\n",
       "<table border=\"1\" class=\"dataframe\">\n",
       "  <thead>\n",
       "    <tr style=\"text-align: right;\">\n",
       "      <th></th>\n",
       "      <th>team</th>\n",
       "      <th>jersey_number</th>\n",
       "      <th>action</th>\n",
       "      <th>notation</th>\n",
       "      <th>start_grid</th>\n",
       "      <th>end_grid</th>\n",
       "      <th>timestamp</th>\n",
       "      <th>foot</th>\n",
       "      <th>special_attribute</th>\n",
       "      <th>half</th>\n",
       "    </tr>\n",
       "  </thead>\n",
       "  <tbody>\n",
       "    <tr>\n",
       "      <th>1574</th>\n",
       "      <td>A</td>\n",
       "      <td>18</td>\n",
       "      <td>SP</td>\n",
       "      <td>1</td>\n",
       "      <td>41</td>\n",
       "      <td>51</td>\n",
       "      <td>1:00:59</td>\n",
       "      <td>R</td>\n",
       "      <td>GK</td>\n",
       "      <td>SHN</td>\n",
       "    </tr>\n",
       "  </tbody>\n",
       "</table>\n",
       "</div>"
      ],
      "text/plain": [
       "     team jersey_number action notation start_grid end_grid timestamp foot  \\\n",
       "1574    A            18     SP        1         41       51   1:00:59    R   \n",
       "\n",
       "     special_attribute half  \n",
       "1574                GK  SHN  "
      ]
     },
     "metadata": {},
     "output_type": "display_data"
    },
    {
     "name": "stdout",
     "output_type": "stream",
     "text": [
      "GK QC-2 done.\n"
     ]
    }
   ],
   "source": [
    "gk_qc()"
   ]
  },
  {
   "cell_type": "markdown",
   "id": "49eb920a-f512-46a6-8a42-9abe97e2cdf3",
   "metadata": {},
   "source": [
    "## Penalty QC"
   ]
  },
  {
   "cell_type": "code",
   "execution_count": 23,
   "id": "e3cfca10-099a-464b-96e8-fb0eec2630d4",
   "metadata": {},
   "outputs": [],
   "source": [
    "def penalty_qc():\n",
    "    '''\n",
    "    This function checks if the PK was taken from inside their respective grids or not\n",
    "    '''\n",
    "\n",
    "    # Checking if PK is taken from the appropriate grid location(32, 42)\n",
    "    wrong_pk = df[(df['special_attribute'] == 'PK') & ~(df['start_grid'].isin(['32', '42']))]\n",
    "    wrong_pk_count = wrong_pk['action'].count()\n",
    "    if wrong_pk_count > 0:\n",
    "        print('This penalty kick is taken outside the penalty area(32, 42). Please check!')\n",
    "        display(wrong_pk)   \n",
    "        message = 'This penalty kick is taken outside the penalty area(32, 42). Please check!'\n",
    "        qc_excel_log(wrong_pk, message, 30, 'Penalty_check')\n",
    "\n",
    "        # logger_obj.info('\\n\\nThis penalty kick is taken outside the penalty area(32, 42). Please check!\\n'\\\n",
    "        #                + f'{write_log(wrong_pk)}\\n' + '*'*100)\n",
    "    else:\n",
    "        print('PK QC done.')\n",
    "        # logger_obj.info('\\n\\nPK QC done.\\n\\n' + '*'*100)"
   ]
  },
  {
   "cell_type": "code",
   "execution_count": 24,
   "id": "ffffc584-da2c-4570-96c0-2a4909a185a1",
   "metadata": {},
   "outputs": [
    {
     "name": "stdout",
     "output_type": "stream",
     "text": [
      "PK QC done.\n"
     ]
    }
   ],
   "source": [
    "penalty_qc()"
   ]
  },
  {
   "cell_type": "markdown",
   "id": "eeb900e6-f190-4912-8392-e042159a1254",
   "metadata": {},
   "source": [
    "## To-do"
   ]
  },
  {
   "cell_type": "code",
   "execution_count": 25,
   "id": "89518f68-7065-475b-a212-9b5c231c7567",
   "metadata": {},
   "outputs": [],
   "source": [
    "# penalty grid check - done\n",
    "# correct grid location - done\n",
    "# check for unsuccessful interception - done\n",
    "# match summary - team, jersey number, type of pass\n",
    "# Add HB condition in non defensive action - done\n",
    "# corner previous action check\n",
    "# match report - goalsocerer and assist, shot and respective key pass (timestamp-wise) - done\n",
    "# check unsuccessful AD and GD add 1 automaically\n",
    "\n",
    "# change to excel log - done\n",
    "# Rather than displaying all fk-pk and foul, only show error ones\n",
    "# add more options to game-time in renumeration function\n",
    "# right now when fk-pk--foul count inequal for both teams, nothing gets logged to the excel file, work on this"
   ]
  },
  {
   "cell_type": "markdown",
   "id": "bc19c79a-7666-4bcf-a134-b6de4788d7f7",
   "metadata": {},
   "source": [
    "## Miscellanous checks"
   ]
  },
  {
   "cell_type": "code",
   "execution_count": 26,
   "id": "a1fb587e-30ad-471a-bb13-067098691b32",
   "metadata": {},
   "outputs": [],
   "source": [
    "def miscellanous_checks():\n",
    "    '''\n",
    "    This function checks if \n",
    "    1. There are any unsuccessful interceptions(IN-0).\n",
    "    '''\n",
    "    unsuccessful_interception = df[(df['action'].isin(['IN', 'XIN'])) & (df['notation'] == '0')]\n",
    "    unsuccessful_interception_count = unsuccessful_interception['action'].count()\n",
    "\n",
    "    if (unsuccessful_interception_count != 0):\n",
    "        print('An unsuccessful interception was tagged. Please check!')\n",
    "        display(unsuccessful_interception)\n",
    "        message = 'An unsuccessful interception was tagged. Please check!'\n",
    "        qc_excel_log(unsuccessful_interception, message, 30, 'unsuccessful_interception_check')\n",
    "\n",
    "        # logger_obj.info(f\"\\n\\nAn unsuccessful interception was tagged. Please check! \\n{write_log(unsuccessful_interception)}\\n\\n\" + '*'*100)\n",
    "\n",
    "    else:\n",
    "        print('No unsuccessful interceptions.')\n"
   ]
  },
  {
   "cell_type": "code",
   "execution_count": 27,
   "id": "352f19b4-3fc4-4727-b90d-a77654e97e89",
   "metadata": {},
   "outputs": [
    {
     "name": "stdout",
     "output_type": "stream",
     "text": [
      "No unsuccessful interceptions.\n"
     ]
    }
   ],
   "source": [
    "miscellanous_checks()"
   ]
  },
  {
   "cell_type": "markdown",
   "id": "e4e8bb72-83c2-4dc6-9a87-ea213a49e68d",
   "metadata": {},
   "source": [
    "## Key pass-shot, assist-goal report"
   ]
  },
  {
   "cell_type": "code",
   "execution_count": 28,
   "id": "c843f389-16f8-4304-ba44-974da7f7a2e6",
   "metadata": {},
   "outputs": [],
   "source": [
    "# assist_mask = ((df['team'] == team) & (df['action'].isin(['SP', 'LP', 'C', 'TB', 'XSP', 'XLP', 'XC', 'XTB'])) & (df['notation'] == '3'))\n",
    "# goal_scorer_mask = ((df['team'] == team) & (df['action'].isin(['CS', 'LS'])) & (df['notation'].isin(['4'])))\n",
    "\n",
    "# df[goal_scorer_mask | assist_mask]\n",
    "\n",
    "\n",
    "\n",
    "# non_goal_shots_mask = ((df['team'] == team) & (df['action'].isin(['CS', 'LS'])) & ~(df['notation'].isin(['4'])))\n",
    "# key_pass_mask = ((df['action'].isin(['SP', 'LP', 'C', 'TB', 'XSP', 'XLP', 'XC', 'XTB'])) & (df['notation'] == '2'))\n",
    "\n",
    "# df[non_goal_shots_mask | key_pass_mask]"
   ]
  },
  {
   "cell_type": "code",
   "execution_count": 29,
   "id": "1f01e27f-1ce7-413c-83c6-875c49b495e7",
   "metadata": {},
   "outputs": [],
   "source": [
    "match_report_path_xlsx = \"../match_report/Match_ID_\" + str(match_idd) + \"_Time_\" + time.strftime(\"%H-%M-%S\") + \".xlsx\"\n",
    "\n",
    "def key_assist_shot_detail(team, team_name):\n",
    "\n",
    "    global shot_pass_df\n",
    "    \n",
    "    key_assist_pass_mask = ((df['team'] == team) & (df['action'].isin(['SP', 'LP', 'C', 'TB', 'XSP', 'XLP', 'XC', 'XTB'])) & (df['notation'].isin(['2', '3'])))\n",
    "    shot_goal_mask = ((df['team'] == team) & (df['action'].isin(['CS', 'LS', 'H'])))\n",
    "    shot_pass_df = df[key_assist_pass_mask | shot_goal_mask].copy()\n",
    "\n",
    "\n",
    "\n",
    "    # cleaning and rearranging shot_pass_df\n",
    "    \n",
    "    # creating 'receiver' col\n",
    "    index_list = []\n",
    "    \n",
    "    for index, row in shot_pass_df.iterrows():\n",
    "        if row['action'] in ['XSP', 'XLP', 'XC', 'XTB']:\n",
    "            shot_pass_df.at[index - 1, 'receiver'] = row['jersey_number']\n",
    "            index_list.append(index)\n",
    "    \n",
    "    shot_pass_df.drop(index_list, inplace = True)\n",
    "    \n",
    "    \n",
    "    # creating 'action_taken' col\n",
    "    action_dict = {\n",
    "        'TB' : {'2' : 'Key Through Pass', '3' : 'Through Pass Assist'},\n",
    "        'SP' : {'2' : 'Key Short Pass', '3' : 'Short Pass Assist'},\n",
    "        'LP' : {'2' : 'Key Long Pass', '3' : 'Long Pass Assist'},\n",
    "        'C' : {'2' : 'Key Cross', '3' : 'Cross Assist'},\n",
    "        'CS' : {'0' : 'Off-Target Close Shot',\n",
    "               '1' : 'Simple Close Shot',\n",
    "               '2' : 'CS-Hitting Cross bar/Post',\n",
    "               '3' : 'Brilliant Close Shot',\n",
    "               '4' : 'Close Shot Goal'},\n",
    "        'LS' : {'0' : 'Off-Target Long Shot',\n",
    "               '1' : 'Simple Long Shot',\n",
    "               '2' : 'LS-Hitting Cross bar/Post',\n",
    "               '3' : 'Brilliant Long Shot',\n",
    "               '4' : 'Long Shot Goal'},\n",
    "        'H' : {'0' : 'Off-Target Header',\n",
    "               '1' : 'Simple Header',\n",
    "               '2' : 'Header-Hitting Cross bar/Post',\n",
    "               '3' : 'Brilliant Header',\n",
    "               '4' : 'Header Goal'}\n",
    "    }\n",
    "    \n",
    "    def action_to_words(row):\n",
    "        return action_dict[row['action']][row['notation']]\n",
    "        \n",
    "    shot_pass_df['action_taken'] = shot_pass_df[['action', 'notation']].apply(action_to_words, axis = 1)\n",
    "    \n",
    "    # creating 'half' col\n",
    "    half_dict = {\n",
    "        'FHN' : 'First Half',\n",
    "        'FHI' : 'First Half Injury Time',\n",
    "        'SHN' : 'Second Half',\n",
    "        'SHI' : 'Second Half Injury Time',\n",
    "        'ET1N' : 'Extra-Time First Half',\n",
    "        'ET1I' : 'Extra-Time First Half Injury Time',\n",
    "        'ET2N' : 'Extra-Time Second Half',\n",
    "        'ET2I' : 'Extra-Time Second Half Injury Time',\n",
    "        'PK' : 'Penalty Shoot-Out'\n",
    "    }\n",
    "    shot_pass_df['half'] = shot_pass_df['half'].map(half_dict)\n",
    "    \n",
    "    \n",
    "    # creating special_attribute col\n",
    "    sp_att_dict = {\n",
    "        'X' : np.nan,\n",
    "        'FK' : 'Free Kick',\n",
    "        'PK' : 'Penalty Kick',\n",
    "        'GK' : 'Goal Kick',\n",
    "        'CN' : 'Corner Kick'\n",
    "    } \n",
    "    shot_pass_df['special_attribute'] = shot_pass_df['special_attribute'].map(sp_att_dict)\n",
    "\n",
    "    # dropping and reordering columns\n",
    "    shot_pass_df.drop(columns = ['action', 'notation', 'start_grid', 'end_grid', 'foot', 'team'], inplace = True)\n",
    "    \n",
    "    desired_order = ['timestamp', 'jersey_number', 'special_attribute', 'action_taken', 'receiver', 'half']\n",
    "    \n",
    "    shot_pass_df = shot_pass_df[desired_order]\n",
    "    \n",
    "    # writing the match report to an excel file\n",
    "    path = r'..\\match_report'\n",
    "    if not os.path.exists(path):\n",
    "        os.makedirs(path)\n",
    "        \n",
    "    sheet_name = team_name\n",
    "    \n",
    "    if os.path.exists(match_report_path_xlsx):\n",
    "        wb = load_workbook(match_report_path_xlsx)\n",
    "        ws = wb.create_sheet(sheet_name)                \n",
    "        \n",
    "    else:\n",
    "        wb = Workbook()\n",
    "        ws = wb.active\n",
    "        ws.title = f'{sheet_name}'\n",
    "\n",
    "    for r in dataframe_to_rows(shot_pass_df, index=False, header=True):\n",
    "        ws.append(r)\n",
    "        \n",
    "    for cell in ws[1]:\n",
    "        cell.style = 'Pandas'\n",
    "\n",
    "    for col in ['A', 'B', 'C', 'D', 'E', 'F']:\n",
    "        ws.column_dimensions[col].width = 25\n",
    "\n",
    "    assist_goal_list = ['Through Pass Assist', 'Short Pass Assist', 'Long Pass Assist', 'Cross Assist',\n",
    "                         'Close Shot Goal', 'Long Shot Goal', 'Header Goal']\n",
    "    for row_idx in range(2, shot_pass_df.shape[0] + 2):\n",
    "        action_t_cell = ws.cell(row = row_idx, column = 4)\n",
    "        if action_t_cell.value in assist_goal_list:\n",
    "            action_t_cell.fill = PatternFill(start_color=\"00FF00\", end_color=\"00FF00\", fill_type=\"solid\")\n",
    "    \n",
    "    wb.save(match_report_path_xlsx)\n",
    "\n"
   ]
  },
  {
   "cell_type": "code",
   "execution_count": 30,
   "id": "2dec9a74-3f8d-4632-ab17-33470361cd7e",
   "metadata": {},
   "outputs": [],
   "source": [
    "key_assist_shot_detail('A', team_a_name)\n",
    "key_assist_shot_detail('B', team_b_name)"
   ]
  },
  {
   "cell_type": "code",
   "execution_count": null,
   "id": "50a703e2-f10b-4510-bf0a-e8cf8d4b50cd",
   "metadata": {},
   "outputs": [],
   "source": []
  },
  {
   "cell_type": "code",
   "execution_count": null,
   "id": "5c9f8a2b-90e6-49fa-be34-d021cd952d1a",
   "metadata": {},
   "outputs": [],
   "source": []
  },
  {
   "cell_type": "code",
   "execution_count": null,
   "id": "c39a5aa9-f204-4634-8b7c-528ee27a760c",
   "metadata": {},
   "outputs": [],
   "source": []
  },
  {
   "cell_type": "code",
   "execution_count": null,
   "id": "735b99ba-32e0-4861-bb21-ec067b8170db",
   "metadata": {},
   "outputs": [],
   "source": []
  },
  {
   "cell_type": "code",
   "execution_count": null,
   "id": "e66891b6-659b-4d59-a178-f5c5e83b5355",
   "metadata": {},
   "outputs": [],
   "source": []
  },
  {
   "cell_type": "code",
   "execution_count": null,
   "id": "05870fd0-ed59-4427-adb5-4493229a7419",
   "metadata": {},
   "outputs": [],
   "source": []
  },
  {
   "cell_type": "code",
   "execution_count": null,
   "id": "d764d765-9d60-4268-8318-f0eb833111c9",
   "metadata": {},
   "outputs": [],
   "source": []
  },
  {
   "cell_type": "code",
   "execution_count": null,
   "id": "bea83c3a-b7e3-4745-943a-01136d3998d4",
   "metadata": {},
   "outputs": [],
   "source": []
  }
 ],
 "metadata": {
  "kernelspec": {
   "display_name": "Python 3 (ipykernel)",
   "language": "python",
   "name": "python3"
  },
  "language_info": {
   "codemirror_mode": {
    "name": "ipython",
    "version": 3
   },
   "file_extension": ".py",
   "mimetype": "text/x-python",
   "name": "python",
   "nbconvert_exporter": "python",
   "pygments_lexer": "ipython3",
   "version": "3.11.1"
  },
  "widgets": {
   "application/vnd.jupyter.widget-state+json": {
    "state": {},
    "version_major": 2,
    "version_minor": 0
   }
  }
 },
 "nbformat": 4,
 "nbformat_minor": 5
}
