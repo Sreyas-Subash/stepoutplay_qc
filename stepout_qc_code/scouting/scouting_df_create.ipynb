{
 "cells": [
  {
   "cell_type": "code",
   "execution_count": 26,
   "id": "534bbfdd-8028-4688-b8dc-185f94154743",
   "metadata": {},
   "outputs": [],
   "source": [
    "import pandas as pd\n",
    "\n",
    "pd.set_option('display.max_columns', None)\n",
    "pd.set_option('display.max_rows', None)"
   ]
  },
  {
   "cell_type": "markdown",
   "id": "d744f46e-da73-4775-b09a-2b74400b23df",
   "metadata": {},
   "source": [
    "# Reading file"
   ]
  },
  {
   "cell_type": "code",
   "execution_count": 47,
   "id": "b96bd700-9f1d-4604-a7e6-237e8ceba255",
   "metadata": {},
   "outputs": [],
   "source": [
    "folder_name = 'dpdl'\n",
    "file_name = 'DPDL Mumbai U15 Players Scouting  - Sheet1'"
   ]
  },
  {
   "cell_type": "code",
   "execution_count": 48,
   "id": "a88cfedd-8643-45bc-b23c-8cf3d1423c4f",
   "metadata": {},
   "outputs": [],
   "source": [
    "df = pd.read_csv(f\"{folder_name}/{file_name}.csv\")"
   ]
  },
  {
   "cell_type": "markdown",
   "id": "6141fa6a-4efe-41a5-9823-9d9fcade1f90",
   "metadata": {},
   "source": [
    "# Column names prep"
   ]
  },
  {
   "cell_type": "code",
   "execution_count": 3,
   "id": "7a437d49-7c6f-42c2-8b0f-3b26ad0a72da",
   "metadata": {},
   "outputs": [],
   "source": [
    "col_list = []\n",
    "for col in df.columns:\n",
    "    new_col = col.lower()\n",
    "    new_col = new_col.replace(' ', '_')\n",
    "    col_list.append(new_col)\n",
    "\n",
    "df.columns = col_list"
   ]
  },
  {
   "cell_type": "markdown",
   "id": "28d54dd7-e720-448a-8e40-ac7338fc6f82",
   "metadata": {},
   "source": [
    "# Col names excel file"
   ]
  },
  {
   "cell_type": "code",
   "execution_count": 26,
   "id": "2f3cbc45-e9ea-40b5-ae5a-5854e17d0eb7",
   "metadata": {},
   "outputs": [],
   "source": [
    "# l = ['absolute_score','user_name','team_name','total_game_time','preferred_position_most_played','total_saves','goal_conceded',\n",
    "# 'goalkick_accuracy','goalkeeper_throws_completed','punches','handling','progressive_passes_per_90']\n",
    "\n",
    "# df = pd.Series(l)\n",
    "# with pd.ExcelWriter(\"scouting_col_names.xlsx\", mode=\"a\", engine=\"openpyxl\", if_sheet_exists=\"replace\") as writer:\n",
    "#     df.to_excel(writer, sheet_name=\"goalkeeper\", index=False, header=False) \n",
    "\n",
    "# # with pd.ExcelWriter(\"scouting_col_names.xlsx\", engine=\"openpyxl\") as writer:\n",
    "# #     df.to_excel(writer, sheet_name=\"defensive_midfielder\", index=False, header=False) \n"
   ]
  },
  {
   "cell_type": "markdown",
   "id": "80f5ea72-97b8-4c4c-83b0-497c61ac16e5",
   "metadata": {},
   "source": [
    "# Final report prep"
   ]
  },
  {
   "cell_type": "code",
   "execution_count": 9,
   "id": "fb16f905-af41-44fb-9f94-2c4acd5d67b4",
   "metadata": {},
   "outputs": [],
   "source": [
    "col_name_df = pd.read_excel(\"scouting_col_names.xlsx\", sheet_name = \"defensive_midfielder\", header=None)"
   ]
  },
  {
   "cell_type": "code",
   "execution_count": 10,
   "id": "7f6f7a39-bb54-41ff-9fe8-ced30104e105",
   "metadata": {},
   "outputs": [],
   "source": [
    "col_name_series = col_name_df[0]"
   ]
  },
  {
   "cell_type": "code",
   "execution_count": 20,
   "id": "034a4152-4bc5-468b-b06c-25bad0979a53",
   "metadata": {},
   "outputs": [],
   "source": [
    "df['duels_per_90'] = df['ground_duels_per_90'] + df['ariel_duels_per_90']\n",
    "df['passes_per_90'] = df['short_passes_per_90'] + df['long_passes_per_90']"
   ]
  },
  {
   "cell_type": "code",
   "execution_count": 38,
   "id": "34004713-3101-4528-9eea-c5a11fab830e",
   "metadata": {},
   "outputs": [],
   "source": [
    "new_df = df[col_name_series]\n",
    "new_df = new_df[new_df['preferred_position_most_played'] == 'DEFENSIVE MIDFIELDER']\n",
    "new_df = new_df.sort_values(by = ['absolute_score'], ascending = False).head(10)"
   ]
  },
  {
   "cell_type": "code",
   "execution_count": 45,
   "id": "162da85b-61b8-4dac-bcad-2a19793eba3e",
   "metadata": {},
   "outputs": [],
   "source": [
    "with pd.ExcelWriter(f\"{folder_name}/scouting_final_report.xlsx\", engine=\"openpyxl\") as writer:\n",
    "    new_df.to_excel(writer, sheet_name=\"defensive_midfielder\", index=False) \n"
   ]
  },
  {
   "cell_type": "code",
   "execution_count": null,
   "id": "612c010b-2c42-4d80-aa39-47d61f80f500",
   "metadata": {},
   "outputs": [],
   "source": []
  }
 ],
 "metadata": {
  "kernelspec": {
   "display_name": "Python 3 (ipykernel)",
   "language": "python",
   "name": "python3"
  },
  "language_info": {
   "codemirror_mode": {
    "name": "ipython",
    "version": 3
   },
   "file_extension": ".py",
   "mimetype": "text/x-python",
   "name": "python",
   "nbconvert_exporter": "python",
   "pygments_lexer": "ipython3",
   "version": "3.11.1"
  },
  "widgets": {
   "application/vnd.jupyter.widget-state+json": {
    "state": {},
    "version_major": 2,
    "version_minor": 0
   }
  }
 },
 "nbformat": 4,
 "nbformat_minor": 5
}
