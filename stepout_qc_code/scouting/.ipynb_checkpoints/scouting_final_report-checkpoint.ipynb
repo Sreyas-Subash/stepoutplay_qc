{
 "cells": [
  {
   "cell_type": "code",
   "execution_count": 1,
   "id": "534bbfdd-8028-4688-b8dc-185f94154743",
   "metadata": {},
   "outputs": [],
   "source": [
    "import pandas as pd\n",
    "import json\n",
    "\n",
    "pd.set_option('display.max_columns', None)\n",
    "pd.set_option('display.max_rows', None)"
   ]
  },
  {
   "cell_type": "markdown",
   "id": "d744f46e-da73-4775-b09a-2b74400b23df",
   "metadata": {},
   "source": [
    "# Reading file"
   ]
  },
  {
   "cell_type": "code",
   "execution_count": 2,
   "id": "b96bd700-9f1d-4604-a7e6-237e8ceba255",
   "metadata": {},
   "outputs": [],
   "source": [
    "short_name = 'dpdl_mum_u15'\n",
    "folder_name = 'dpdl_mumbai_u15_apr'\n",
    "file_name = 'dpdl-mumbai-u15'"
   ]
  },
  {
   "cell_type": "code",
   "execution_count": 3,
   "id": "463ba343-8512-4aed-afbe-395a8d61e08c",
   "metadata": {},
   "outputs": [],
   "source": [
    "with open(f'{folder_name}/{file_name}.json', 'r') as f:\n",
    "    data = json.load(f)\n",
    "    dt = data[0]['scouting_data']\n",
    "\n",
    "df = pd.DataFrame(dt)"
   ]
  },
  {
   "cell_type": "code",
   "execution_count": 4,
   "id": "a88cfedd-8643-45bc-b23c-8cf3d1423c4f",
   "metadata": {},
   "outputs": [],
   "source": [
    "# df = pd.read_csv(f\"{folder_name}/{file_name}.csv\")"
   ]
  },
  {
   "cell_type": "markdown",
   "id": "6141fa6a-4efe-41a5-9823-9d9fcade1f90",
   "metadata": {},
   "source": [
    "# Column names prep"
   ]
  },
  {
   "cell_type": "code",
   "execution_count": 5,
   "id": "7a437d49-7c6f-42c2-8b0f-3b26ad0a72da",
   "metadata": {},
   "outputs": [],
   "source": [
    "col_list = []\n",
    "for col in df.columns:\n",
    "    new_col = col.lower()\n",
    "    new_col = new_col.replace(' ', '_')\n",
    "    col_list.append(new_col)\n",
    "\n",
    "df.columns = col_list"
   ]
  },
  {
   "cell_type": "code",
   "execution_count": 6,
   "id": "854587af-5339-4274-a3f4-75eba090471c",
   "metadata": {},
   "outputs": [],
   "source": [
    "# user_list = [10255, 10254, 10253, 10252, 10251, 10250, 10249, 10248, 10247, 10246, 10245, 10365, 10370, 10778, 10881, 10882, 10884, 11052, 11054, 11055, 11087, 11106, 11108, 12005, 12609, 12835, 13065, 13688, 13689]\n",
    "# df = df[df['user_id'].isin(user_list)]"
   ]
  },
  {
   "cell_type": "markdown",
   "id": "28d54dd7-e720-448a-8e40-ac7338fc6f82",
   "metadata": {},
   "source": [
    "# Col names excel file"
   ]
  },
  {
   "cell_type": "code",
   "execution_count": 7,
   "id": "2f3cbc45-e9ea-40b5-ae5a-5854e17d0eb7",
   "metadata": {},
   "outputs": [],
   "source": [
    "# l = ['absolute_score','user_name','team_name','total_game_time','preferred_position_most_played','total_saves','goal_conceded',\n",
    "# 'goalkick_accuracy','goalkeeper_throws_completed','punches','handling','progressive_passes_per_90']\n",
    "\n",
    "# df = pd.Series(l)\n",
    "# with pd.ExcelWriter(\"scouting_col_names.xlsx\", mode=\"a\", engine=\"openpyxl\", if_sheet_exists=\"replace\") as writer:\n",
    "#     df.to_excel(writer, sheet_name=\"goalkeeper\", index=False, header=False) \n",
    "\n",
    "# # with pd.ExcelWriter(\"scouting_col_names.xlsx\", engine=\"openpyxl\") as writer:\n",
    "# #     df.to_excel(writer, sheet_name=\"defensive_midfielder\", index=False, header=False) \n"
   ]
  },
  {
   "cell_type": "markdown",
   "id": "8177bb86-daad-4fa5-b076-c872dad3cc90",
   "metadata": {},
   "source": [
    "# Adding new columns"
   ]
  },
  {
   "cell_type": "code",
   "execution_count": 8,
   "id": "56f58e86-401a-4273-91ef-2c18c238d224",
   "metadata": {},
   "outputs": [],
   "source": [
    "df['duels_per_90'] = df['ground_duels_per_90'] + df['ariel_duels_per_90']\n",
    "df['passes_per_90'] = df['short_passes_per_90'] + df['long_passes_per_90']\n",
    "df['total_passes_per_90'] = df['short_passes_per_90'] + df['long_passes_per_90'] + df['through_balls_per_90'] + df['crosses_per_90'] \n",
    "df['goals'] = df['goals_from_close_shot'] + df['goals_from_long_shot'] + df['goals_from_headed_shot']\n",
    "\n",
    "def to_camel_case(name):\n",
    "    parts = name.split(' ')\n",
    "    return ' '.join(x.title() for x in parts)\n",
    "\n",
    "\n",
    "# Apply camel case conversion to the 'name' column\n",
    "df['user_name'] = df['user_name'].apply(to_camel_case)"
   ]
  },
  {
   "cell_type": "markdown",
   "id": "80f5ea72-97b8-4c4c-83b0-497c61ac16e5",
   "metadata": {},
   "source": [
    "# Final report prep"
   ]
  },
  {
   "cell_type": "code",
   "execution_count": 9,
   "id": "612c010b-2c42-4d80-aa39-47d61f80f500",
   "metadata": {},
   "outputs": [],
   "source": [
    "position_dict = {\n",
    "    'center_forward|striker' : ['STRIKER', 'RIGHT FORWARD', 'LEFT FORWARD', 'CENTER FORWARD'],\n",
    "    'left_winger|right_winger' : ['LEFT WINGER' , 'RIGHT WINGER'],\n",
    "    'attacking_midfielder' : ['ATTACKING MIDFIELDER'],\n",
    "    'central_midfielder' : ['CENTRAL MIDFIELDER', 'RIGHT MIDFIELDER', 'LEFT MIDFIELDER'],\n",
    "    'defensive_midfielder' : ['DEFENSIVE MIDFIELDER'],\n",
    "    'left_back|right_back' : ['LEFT SIDE BACK', 'RIGHT SIDE BACK', 'LEFT WING BACK', 'RIGHT WING BACK'],\n",
    "    'center_back' : ['CENTER BACK'],\n",
    "    'goalkeeper' : ['GOALKEEPER']                         \n",
    "}"
   ]
  },
  {
   "cell_type": "code",
   "execution_count": 10,
   "id": "bcf88a86-4ae5-4cc2-b498-b3d0f0127ce9",
   "metadata": {},
   "outputs": [],
   "source": [
    "def final_scouting_report(position, position_list):\n",
    "    col_name_df = pd.read_excel(\"scouting_col_names.xlsx\", sheet_name = position, header = None)\n",
    "    col_name_series = col_name_df[0]\n",
    "\n",
    "    for i in ['possession_retained_per_90', 'succ_interceptions_per_90', 'short_passes_per_90', 'total_forward_passes_per_90']:\n",
    "        if i not in col_name_series.values:\n",
    "            col_name_series = pd.concat([col_name_series, pd.Series([i])])\n",
    "\n",
    "    new_df = df[col_name_series]\n",
    "    new_df = new_df[new_df['preferred_position_most_played'].isin(position_list)]\n",
    "    new_df = new_df.sort_values(by = ['absolute_score'], ascending = False).head(8)\n",
    "    new_df = new_df.drop(['absolute_score'], axis = 1)\n",
    "\n",
    "    if position == 'center_forward|striker':\n",
    "        with pd.ExcelWriter(f\"{folder_name}/scouting_final_report_{short_name}_.xlsx\", engine=\"openpyxl\") as writer:\n",
    "            new_df.to_excel(writer, sheet_name = position, index = False) \n",
    "    else:\n",
    "        with pd.ExcelWriter(f\"{folder_name}/scouting_final_report_{short_name}_.xlsx\", mode=\"a\", engine=\"openpyxl\", if_sheet_exists=\"replace\") as writer:\n",
    "            new_df.to_excel(writer, sheet_name = position, index = False) \n",
    "    "
   ]
  },
  {
   "cell_type": "code",
   "execution_count": 11,
   "id": "b35f44b5-fec7-4fe8-8c13-a60a56f63b3e",
   "metadata": {},
   "outputs": [],
   "source": [
    "for pos in position_dict:\n",
    "    final_scouting_report(pos, position_dict[pos])"
   ]
  }
 ],
 "metadata": {
  "kernelspec": {
   "display_name": "Python 3 (ipykernel)",
   "language": "python",
   "name": "python3"
  },
  "language_info": {
   "codemirror_mode": {
    "name": "ipython",
    "version": 3
   },
   "file_extension": ".py",
   "mimetype": "text/x-python",
   "name": "python",
   "nbconvert_exporter": "python",
   "pygments_lexer": "ipython3",
   "version": "3.11.1"
  },
  "widgets": {
   "application/vnd.jupyter.widget-state+json": {
    "state": {},
    "version_major": 2,
    "version_minor": 0
   }
  }
 },
 "nbformat": 4,
 "nbformat_minor": 5
}
