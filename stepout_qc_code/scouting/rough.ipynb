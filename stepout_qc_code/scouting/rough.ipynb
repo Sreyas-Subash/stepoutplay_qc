{
 "cells": [
  {
   "cell_type": "code",
   "execution_count": 1,
   "id": "880c1cd7-fe4f-474e-b308-4130e5317b13",
   "metadata": {},
   "outputs": [],
   "source": [
    "import pandas as pd\n",
    "\n",
    "pd.set_option('display.max_columns', None)\n",
    "pd.set_option('display.max_rows', None)"
   ]
  },
  {
   "cell_type": "code",
   "execution_count": 2,
   "id": "f375da63-f7c1-4b4f-a951-99e54ff7de3e",
   "metadata": {},
   "outputs": [],
   "source": [
    "short_name = 'ksfa'\n",
    "folder_name = 'ksfa_super_div'\n",
    "file_name = 'KSFA Super Division Scouting Data - Sheet1'"
   ]
  },
  {
   "cell_type": "code",
   "execution_count": 3,
   "id": "22feb4c5-ec4c-4c32-86d6-0c4f51c9577e",
   "metadata": {},
   "outputs": [],
   "source": [
    "df = pd.read_csv(f\"{folder_name}/{file_name}.csv\")"
   ]
  },
  {
   "cell_type": "code",
   "execution_count": 5,
   "id": "34addd3d-130b-4557-bfba-804483e8616f",
   "metadata": {},
   "outputs": [],
   "source": [
    "user_list = [10255, 10254, 10253, 10252, 10251, 10250, 10249, 10248, 10247, 10246, 10245, 10365, 10370, 10778, 10881, 10882, 10884, 11052, 11054, 11055, 11087, 11106, 11108, 12005, 12609, 12835, 13065, 13688, 13689]"
   ]
  },
  {
   "cell_type": "code",
   "execution_count": 9,
   "id": "7d3ca4b5-0f0c-4d9a-91c6-6de8898c4e27",
   "metadata": {},
   "outputs": [],
   "source": [
    "df[df['user id'].isin(user_list)].to_csv('SUFC_Player.csv', index=False)"
   ]
  },
  {
   "cell_type": "code",
   "execution_count": 10,
   "id": "9d9e4357-b8d3-40ba-a534-844c7f6557d1",
   "metadata": {},
   "outputs": [],
   "source": [
    "series = pd.Series(df.columns)"
   ]
  },
  {
   "cell_type": "code",
   "execution_count": 13,
   "id": "bffa8734-7ac0-4b9e-a74b-7891f21aa22f",
   "metadata": {},
   "outputs": [],
   "source": [
    "series.to_excel('all_col_names.xlsx', header=False, index=False)"
   ]
  },
  {
   "cell_type": "code",
   "execution_count": null,
   "id": "7fdc6907-afc6-43b4-8822-5aad67ca7b4c",
   "metadata": {},
   "outputs": [],
   "source": []
  }
 ],
 "metadata": {
  "kernelspec": {
   "display_name": "Python 3 (ipykernel)",
   "language": "python",
   "name": "python3"
  },
  "language_info": {
   "codemirror_mode": {
    "name": "ipython",
    "version": 3
   },
   "file_extension": ".py",
   "mimetype": "text/x-python",
   "name": "python",
   "nbconvert_exporter": "python",
   "pygments_lexer": "ipython3",
   "version": "3.11.9"
  },
  "widgets": {
   "application/vnd.jupyter.widget-state+json": {
    "state": {},
    "version_major": 2,
    "version_minor": 0
   }
  }
 },
 "nbformat": 4,
 "nbformat_minor": 5
}
