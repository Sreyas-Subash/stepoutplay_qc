{
 "cells": [
  {
   "cell_type": "code",
   "execution_count": 1,
   "id": "b8cfb30b-74b7-4aae-931a-20f64a2e4877",
   "metadata": {},
   "outputs": [],
   "source": [
    "import pandas as pd"
   ]
  },
  {
   "cell_type": "code",
   "execution_count": 3,
   "id": "0df0bd6f-d0f5-4fae-9413-fb4dc32aadc3",
   "metadata": {},
   "outputs": [],
   "source": [
    "df = pd.read_csv('DPDL Mumbai U15 Players Scouting  - Sheet1.csv')"
   ]
  },
  {
   "cell_type": "code",
   "execution_count": 12,
   "id": "7b400116-d22f-4326-8b38-29f85be6351b",
   "metadata": {},
   "outputs": [
    {
     "data": {
      "text/plain": [
       "(326, 91)"
      ]
     },
     "execution_count": 12,
     "metadata": {},
     "output_type": "execute_result"
    }
   ],
   "source": [
    "df.shape"
   ]
  },
  {
   "cell_type": "code",
   "execution_count": 10,
   "id": "dea8e51d-2108-4538-8680-86e02fd6d4bf",
   "metadata": {},
   "outputs": [],
   "source": [
    "col_list = []\n",
    "for col in df.columns:\n",
    "    new_col = col.lower()\n",
    "    new_col = new_col.replace(' ', '_')\n",
    "    col_list.append(new_col)"
   ]
  },
  {
   "cell_type": "code",
   "execution_count": 13,
   "id": "23c2f2cd-ce07-4162-8b14-c2cf52728682",
   "metadata": {},
   "outputs": [
    {
     "data": {
      "text/plain": [
       "91"
      ]
     },
     "execution_count": 13,
     "metadata": {},
     "output_type": "execute_result"
    }
   ],
   "source": [
    "len(col_list)"
   ]
  },
  {
   "cell_type": "code",
   "execution_count": 14,
   "id": "d3f8eed5-3f38-4caf-be41-5993b0fcdcbb",
   "metadata": {},
   "outputs": [],
   "source": [
    "df.columns = col_list"
   ]
  },
  {
   "cell_type": "code",
   "execution_count": 15,
   "id": "bdf481d9-d002-4fc2-b851-69a7384ede4a",
   "metadata": {},
   "outputs": [
    {
     "data": {
      "text/html": [
       "<div>\n",
       "<style scoped>\n",
       "    .dataframe tbody tr th:only-of-type {\n",
       "        vertical-align: middle;\n",
       "    }\n",
       "\n",
       "    .dataframe tbody tr th {\n",
       "        vertical-align: top;\n",
       "    }\n",
       "\n",
       "    .dataframe thead th {\n",
       "        text-align: right;\n",
       "    }\n",
       "</style>\n",
       "<table border=\"1\" class=\"dataframe\">\n",
       "  <thead>\n",
       "    <tr style=\"text-align: right;\">\n",
       "      <th></th>\n",
       "      <th>user_id</th>\n",
       "      <th>user_name</th>\n",
       "      <th>team_name</th>\n",
       "      <th>preferred_position</th>\n",
       "      <th>preferred_position_most_played</th>\n",
       "      <th>jersey_number</th>\n",
       "      <th>total_game_time</th>\n",
       "      <th>succ_interceptions</th>\n",
       "      <th>succ_interceptions_per_90</th>\n",
       "      <th>total_possession_retained</th>\n",
       "      <th>...</th>\n",
       "      <th>goal_conceded</th>\n",
       "      <th>goalkick_accuracy</th>\n",
       "      <th>goalkeeper_throws_completed</th>\n",
       "      <th>handling</th>\n",
       "      <th>punches</th>\n",
       "      <th>clearances</th>\n",
       "      <th>successful_ball_carry_per_90</th>\n",
       "      <th>ball_carry_accuracy</th>\n",
       "      <th>goals_from_headed_shot</th>\n",
       "      <th>goals_from_headed_shot_per_90</th>\n",
       "    </tr>\n",
       "  </thead>\n",
       "  <tbody>\n",
       "    <tr>\n",
       "      <th>0</th>\n",
       "      <td>16769</td>\n",
       "      <td>TSA No. 23</td>\n",
       "      <td>The Soccer Academy U15</td>\n",
       "      <td>['CENTRAL MIDFIELDER', 'RIGHT SIDE BACK']</td>\n",
       "      <td>CENTRAL MIDFIELDER</td>\n",
       "      <td>['23']</td>\n",
       "      <td>130</td>\n",
       "      <td>1</td>\n",
       "      <td>0.692308</td>\n",
       "      <td>2</td>\n",
       "      <td>...</td>\n",
       "      <td>0</td>\n",
       "      <td>0.0</td>\n",
       "      <td>0</td>\n",
       "      <td>0</td>\n",
       "      <td>0</td>\n",
       "      <td>12</td>\n",
       "      <td>0.692308</td>\n",
       "      <td>100</td>\n",
       "      <td>0</td>\n",
       "      <td>0.0</td>\n",
       "    </tr>\n",
       "    <tr>\n",
       "      <th>1</th>\n",
       "      <td>16770</td>\n",
       "      <td>TSA No 31</td>\n",
       "      <td>The Soccer Academy U15</td>\n",
       "      <td>['GOALKEEPER', 'CENTER BACK']</td>\n",
       "      <td>GOALKEEPER</td>\n",
       "      <td>['31']</td>\n",
       "      <td>95</td>\n",
       "      <td>0</td>\n",
       "      <td>0.000000</td>\n",
       "      <td>3</td>\n",
       "      <td>...</td>\n",
       "      <td>5</td>\n",
       "      <td>0.0</td>\n",
       "      <td>2</td>\n",
       "      <td>4</td>\n",
       "      <td>5</td>\n",
       "      <td>0</td>\n",
       "      <td>0.000000</td>\n",
       "      <td>0</td>\n",
       "      <td>0</td>\n",
       "      <td>0.0</td>\n",
       "    </tr>\n",
       "    <tr>\n",
       "      <th>2</th>\n",
       "      <td>16771</td>\n",
       "      <td>TSA NO 3</td>\n",
       "      <td>The Soccer Academy U15</td>\n",
       "      <td>['LEFT SIDE BACK']</td>\n",
       "      <td>LEFT SIDE BACK</td>\n",
       "      <td>['3']</td>\n",
       "      <td>60</td>\n",
       "      <td>0</td>\n",
       "      <td>0.000000</td>\n",
       "      <td>7</td>\n",
       "      <td>...</td>\n",
       "      <td>0</td>\n",
       "      <td>0.0</td>\n",
       "      <td>0</td>\n",
       "      <td>0</td>\n",
       "      <td>0</td>\n",
       "      <td>0</td>\n",
       "      <td>10.500000</td>\n",
       "      <td>100</td>\n",
       "      <td>0</td>\n",
       "      <td>0.0</td>\n",
       "    </tr>\n",
       "    <tr>\n",
       "      <th>3</th>\n",
       "      <td>16772</td>\n",
       "      <td>TSA NO 1</td>\n",
       "      <td>The Soccer Academy U15</td>\n",
       "      <td>['CENTRAL MIDFIELDER']</td>\n",
       "      <td>CENTRAL MIDFIELDER</td>\n",
       "      <td>['1']</td>\n",
       "      <td>60</td>\n",
       "      <td>0</td>\n",
       "      <td>0.000000</td>\n",
       "      <td>2</td>\n",
       "      <td>...</td>\n",
       "      <td>0</td>\n",
       "      <td>0.0</td>\n",
       "      <td>0</td>\n",
       "      <td>0</td>\n",
       "      <td>0</td>\n",
       "      <td>0</td>\n",
       "      <td>4.500000</td>\n",
       "      <td>100</td>\n",
       "      <td>0</td>\n",
       "      <td>0.0</td>\n",
       "    </tr>\n",
       "    <tr>\n",
       "      <th>4</th>\n",
       "      <td>16773</td>\n",
       "      <td>TSA NO 14</td>\n",
       "      <td>The Soccer Academy U15</td>\n",
       "      <td>['CENTER BACK', 'LEFT SIDE BACK']</td>\n",
       "      <td>CENTER BACK</td>\n",
       "      <td>['14', '114']</td>\n",
       "      <td>120</td>\n",
       "      <td>2</td>\n",
       "      <td>1.500000</td>\n",
       "      <td>9</td>\n",
       "      <td>...</td>\n",
       "      <td>0</td>\n",
       "      <td>0.0</td>\n",
       "      <td>0</td>\n",
       "      <td>0</td>\n",
       "      <td>0</td>\n",
       "      <td>10</td>\n",
       "      <td>1.500000</td>\n",
       "      <td>100</td>\n",
       "      <td>0</td>\n",
       "      <td>0.0</td>\n",
       "    </tr>\n",
       "  </tbody>\n",
       "</table>\n",
       "<p>5 rows × 91 columns</p>\n",
       "</div>"
      ],
      "text/plain": [
       "   user_id   user_name               team_name  \\\n",
       "0    16769  TSA No. 23  The Soccer Academy U15   \n",
       "1    16770   TSA No 31  The Soccer Academy U15   \n",
       "2    16771    TSA NO 3  The Soccer Academy U15   \n",
       "3    16772    TSA NO 1  The Soccer Academy U15   \n",
       "4    16773   TSA NO 14  The Soccer Academy U15   \n",
       "\n",
       "                          preferred_position preferred_position_most_played  \\\n",
       "0  ['CENTRAL MIDFIELDER', 'RIGHT SIDE BACK']             CENTRAL MIDFIELDER   \n",
       "1              ['GOALKEEPER', 'CENTER BACK']                     GOALKEEPER   \n",
       "2                         ['LEFT SIDE BACK']                 LEFT SIDE BACK   \n",
       "3                     ['CENTRAL MIDFIELDER']             CENTRAL MIDFIELDER   \n",
       "4          ['CENTER BACK', 'LEFT SIDE BACK']                    CENTER BACK   \n",
       "\n",
       "   jersey_number  total_game_time  succ_interceptions  \\\n",
       "0         ['23']              130                   1   \n",
       "1         ['31']               95                   0   \n",
       "2          ['3']               60                   0   \n",
       "3          ['1']               60                   0   \n",
       "4  ['14', '114']              120                   2   \n",
       "\n",
       "   succ_interceptions_per_90  total_possession_retained  ...  goal_conceded  \\\n",
       "0                   0.692308                          2  ...              0   \n",
       "1                   0.000000                          3  ...              5   \n",
       "2                   0.000000                          7  ...              0   \n",
       "3                   0.000000                          2  ...              0   \n",
       "4                   1.500000                          9  ...              0   \n",
       "\n",
       "   goalkick_accuracy  goalkeeper_throws_completed  handling  punches  \\\n",
       "0                0.0                            0         0        0   \n",
       "1                0.0                            2         4        5   \n",
       "2                0.0                            0         0        0   \n",
       "3                0.0                            0         0        0   \n",
       "4                0.0                            0         0        0   \n",
       "\n",
       "   clearances  successful_ball_carry_per_90  ball_carry_accuracy  \\\n",
       "0          12                      0.692308                  100   \n",
       "1           0                      0.000000                    0   \n",
       "2           0                     10.500000                  100   \n",
       "3           0                      4.500000                  100   \n",
       "4          10                      1.500000                  100   \n",
       "\n",
       "   goals_from_headed_shot  goals_from_headed_shot_per_90  \n",
       "0                       0                            0.0  \n",
       "1                       0                            0.0  \n",
       "2                       0                            0.0  \n",
       "3                       0                            0.0  \n",
       "4                       0                            0.0  \n",
       "\n",
       "[5 rows x 91 columns]"
      ]
     },
     "execution_count": 15,
     "metadata": {},
     "output_type": "execute_result"
    }
   ],
   "source": [
    "df.head()"
   ]
  },
  {
   "cell_type": "code",
   "execution_count": 17,
   "id": "26c4e6ce-22f7-475a-8c99-9fc8c4e71fff",
   "metadata": {},
   "outputs": [],
   "source": [
    "df.to_csv('columns_edited_dpdl.csv', index=False)"
   ]
  },
  {
   "cell_type": "code",
   "execution_count": null,
   "id": "5db418e7-ba30-439a-8309-f73d54f0eff9",
   "metadata": {},
   "outputs": [],
   "source": []
  }
 ],
 "metadata": {
  "kernelspec": {
   "display_name": "Python 3 (ipykernel)",
   "language": "python",
   "name": "python3"
  },
  "language_info": {
   "codemirror_mode": {
    "name": "ipython",
    "version": 3
   },
   "file_extension": ".py",
   "mimetype": "text/x-python",
   "name": "python",
   "nbconvert_exporter": "python",
   "pygments_lexer": "ipython3",
   "version": "3.11.1"
  },
  "widgets": {
   "application/vnd.jupyter.widget-state+json": {
    "state": {},
    "version_major": 2,
    "version_minor": 0
   }
  }
 },
 "nbformat": 4,
 "nbformat_minor": 5
}
